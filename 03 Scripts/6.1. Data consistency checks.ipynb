{
 "cells": [
  {
   "cell_type": "code",
   "execution_count": 87,
   "id": "b426ec51-8bba-463c-ae5b-f769971972cc",
   "metadata": {},
   "outputs": [],
   "source": [
    "# Importing libraries\n",
    "import pandas as pd\n",
    "import numpy as np\n",
    "import os\n",
    "import matplotlib.pyplot as plt\n",
    "import seaborn as sns\n",
    "import scipy"
   ]
  },
  {
   "cell_type": "code",
   "execution_count": 88,
   "id": "f9c199bf-03d9-4f99-b37f-df3c6a360d30",
   "metadata": {},
   "outputs": [],
   "source": [
    "path = r'C:\\Users\\iryna\\Documents\\11.08.2024 Boat Sales Analysis'"
   ]
  },
  {
   "cell_type": "code",
   "execution_count": 89,
   "id": "43a19f39-c457-4746-aa96-d5d50b165575",
   "metadata": {},
   "outputs": [],
   "source": [
    "boats = pd.read_csv(os.path.join(path,'02 Data','Original Data', 'boat_data.csv'))"
   ]
  },
  {
   "cell_type": "code",
   "execution_count": 90,
   "id": "13478531-f015-43c3-a206-4355f695070f",
   "metadata": {},
   "outputs": [
    {
     "data": {
      "text/html": [
       "<div>\n",
       "<style scoped>\n",
       "    .dataframe tbody tr th:only-of-type {\n",
       "        vertical-align: middle;\n",
       "    }\n",
       "\n",
       "    .dataframe tbody tr th {\n",
       "        vertical-align: top;\n",
       "    }\n",
       "\n",
       "    .dataframe thead th {\n",
       "        text-align: right;\n",
       "    }\n",
       "</style>\n",
       "<table border=\"1\" class=\"dataframe\">\n",
       "  <thead>\n",
       "    <tr style=\"text-align: right;\">\n",
       "      <th></th>\n",
       "      <th>Price</th>\n",
       "      <th>Boat Type</th>\n",
       "      <th>Manufacturer</th>\n",
       "      <th>Type</th>\n",
       "      <th>Year Built</th>\n",
       "      <th>Length</th>\n",
       "      <th>Width</th>\n",
       "      <th>Material</th>\n",
       "      <th>Location</th>\n",
       "      <th>Number of views last 7 days</th>\n",
       "    </tr>\n",
       "  </thead>\n",
       "  <tbody>\n",
       "    <tr>\n",
       "      <th>0</th>\n",
       "      <td>CHF 3337</td>\n",
       "      <td>Motor Yacht</td>\n",
       "      <td>Rigiflex power boats</td>\n",
       "      <td>new boat from stock</td>\n",
       "      <td>2017</td>\n",
       "      <td>4.00</td>\n",
       "      <td>1.90</td>\n",
       "      <td>NaN</td>\n",
       "      <td>Switzerland Â» Lake Geneva Â» VÃ©senaz</td>\n",
       "      <td>226</td>\n",
       "    </tr>\n",
       "    <tr>\n",
       "      <th>1</th>\n",
       "      <td>EUR 3490</td>\n",
       "      <td>Center console boat</td>\n",
       "      <td>Terhi power boats</td>\n",
       "      <td>new boat from stock</td>\n",
       "      <td>2020</td>\n",
       "      <td>4.00</td>\n",
       "      <td>1.50</td>\n",
       "      <td>Thermoplastic</td>\n",
       "      <td>Germany Â» BÃ¶nningstedt</td>\n",
       "      <td>75</td>\n",
       "    </tr>\n",
       "    <tr>\n",
       "      <th>2</th>\n",
       "      <td>CHF 3770</td>\n",
       "      <td>Sport Boat</td>\n",
       "      <td>Marine power boats</td>\n",
       "      <td>new boat from stock</td>\n",
       "      <td>0</td>\n",
       "      <td>3.69</td>\n",
       "      <td>1.42</td>\n",
       "      <td>Aluminium</td>\n",
       "      <td>Switzerland Â» Lake of Zurich Â» StÃ¤fa ZH</td>\n",
       "      <td>124</td>\n",
       "    </tr>\n",
       "    <tr>\n",
       "      <th>3</th>\n",
       "      <td>DKK 25900</td>\n",
       "      <td>Sport Boat</td>\n",
       "      <td>Pioner power boats</td>\n",
       "      <td>new boat from stock</td>\n",
       "      <td>2020</td>\n",
       "      <td>3.00</td>\n",
       "      <td>1.00</td>\n",
       "      <td>NaN</td>\n",
       "      <td>Denmark Â» Svendborg</td>\n",
       "      <td>64</td>\n",
       "    </tr>\n",
       "    <tr>\n",
       "      <th>4</th>\n",
       "      <td>EUR 3399</td>\n",
       "      <td>Fishing Boat</td>\n",
       "      <td>Linder power boats</td>\n",
       "      <td>new boat from stock</td>\n",
       "      <td>2019</td>\n",
       "      <td>3.55</td>\n",
       "      <td>1.46</td>\n",
       "      <td>Aluminium</td>\n",
       "      <td>Germany Â» Bayern Â» MÃ¼nchen</td>\n",
       "      <td>58</td>\n",
       "    </tr>\n",
       "  </tbody>\n",
       "</table>\n",
       "</div>"
      ],
      "text/plain": [
       "       Price            Boat Type          Manufacturer                 Type  \\\n",
       "0   CHF 3337          Motor Yacht  Rigiflex power boats  new boat from stock   \n",
       "1   EUR 3490  Center console boat     Terhi power boats  new boat from stock   \n",
       "2   CHF 3770           Sport Boat    Marine power boats  new boat from stock   \n",
       "3  DKK 25900           Sport Boat    Pioner power boats  new boat from stock   \n",
       "4   EUR 3399         Fishing Boat    Linder power boats  new boat from stock   \n",
       "\n",
       "   Year Built  Length  Width       Material  \\\n",
       "0        2017    4.00   1.90            NaN   \n",
       "1        2020    4.00   1.50  Thermoplastic   \n",
       "2           0    3.69   1.42      Aluminium   \n",
       "3        2020    3.00   1.00            NaN   \n",
       "4        2019    3.55   1.46      Aluminium   \n",
       "\n",
       "                                     Location  Number of views last 7 days  \n",
       "0      Switzerland Â» Lake Geneva Â» VÃ©senaz                          226  \n",
       "1                    Germany Â» BÃ¶nningstedt                           75  \n",
       "2  Switzerland Â» Lake of Zurich Â» StÃ¤fa ZH                          124  \n",
       "3                        Denmark Â» Svendborg                           64  \n",
       "4               Germany Â» Bayern Â» MÃ¼nchen                           58  "
      ]
     },
     "execution_count": 90,
     "metadata": {},
     "output_type": "execute_result"
    }
   ],
   "source": [
    "boats.head()"
   ]
  },
  {
   "cell_type": "code",
   "execution_count": 91,
   "id": "15a2eb97-c7ad-43f8-a108-8b0432c18b4b",
   "metadata": {},
   "outputs": [
    {
     "data": {
      "text/plain": [
       "(9888, 10)"
      ]
     },
     "execution_count": 91,
     "metadata": {},
     "output_type": "execute_result"
    }
   ],
   "source": [
    "boats.shape"
   ]
  },
  {
   "cell_type": "code",
   "execution_count": 92,
   "id": "1e4dbfd9-b69c-4c69-94a6-d6539325b036",
   "metadata": {},
   "outputs": [
    {
     "name": "stdout",
     "output_type": "stream",
     "text": [
      "<class 'pandas.core.frame.DataFrame'>\n",
      "RangeIndex: 9888 entries, 0 to 9887\n",
      "Data columns (total 10 columns):\n",
      " #   Column                       Non-Null Count  Dtype  \n",
      "---  ------                       --------------  -----  \n",
      " 0   Price                        9888 non-null   object \n",
      " 1   Boat Type                    9888 non-null   object \n",
      " 2   Manufacturer                 8550 non-null   object \n",
      " 3   Type                         9882 non-null   object \n",
      " 4   Year Built                   9888 non-null   int64  \n",
      " 5   Length                       9879 non-null   float64\n",
      " 6   Width                        9832 non-null   float64\n",
      " 7   Material                     8139 non-null   object \n",
      " 8   Location                     9852 non-null   object \n",
      " 9   Number of views last 7 days  9888 non-null   int64  \n",
      "dtypes: float64(2), int64(2), object(6)\n",
      "memory usage: 772.6+ KB\n"
     ]
    }
   ],
   "source": [
    "boats.info()"
   ]
  },
  {
   "cell_type": "markdown",
   "id": "c3c6fd88-b52e-48df-bc07-002adf95836d",
   "metadata": {},
   "source": [
    "### Data quality and consistency checks"
   ]
  },
  {
   "cell_type": "code",
   "execution_count": 94,
   "id": "3ce2268e-bd96-4482-9e6a-e7a5191634f0",
   "metadata": {},
   "outputs": [
    {
     "name": "stdout",
     "output_type": "stream",
     "text": [
      "Manufacturer\n",
      "Type\n",
      "Material\n",
      "Location\n"
     ]
    }
   ],
   "source": [
    "# Checking for mixed-type data in dataframe\n",
    "\n",
    "for col in boats.columns.tolist():\n",
    "  weird = (boats[[col]].map(type) != boats[[col]].iloc[0].apply(type)).any(axis = 1)\n",
    "  if len (boats[weird]) > 0:\n",
    "    print (col)"
   ]
  },
  {
   "cell_type": "code",
   "execution_count": 95,
   "id": "ce8b0e55-5038-4bf6-a98a-348c63720d4c",
   "metadata": {},
   "outputs": [],
   "source": [
    "# Found columns with mixed data type that need to be addressed - Manufacturer, Type, Material, Location\n",
    "\n",
    "boats['Manufacturer'] = boats['Manufacturer'].astype('str')\n",
    "boats['Type'] = boats['Type'].astype('str')\n",
    "boats['Material'] = boats['Material'].astype('str')\n",
    "boats['Location'] = boats['Location'].astype('str')"
   ]
  },
  {
   "cell_type": "code",
   "execution_count": 96,
   "id": "0437eeef-d2ae-4dc4-ae5d-6a751178c9ea",
   "metadata": {},
   "outputs": [],
   "source": [
    "# Checking mixed-data types after changing the data type.\n",
    "\n",
    "for col in boats.columns.tolist():\n",
    "  weird = (boats[[col]].map(type) != boats[[col]].iloc[0].apply(type)).any(axis = 1)\n",
    "  if len (boats[weird]) > 0:\n",
    "    print (col)"
   ]
  },
  {
   "cell_type": "markdown",
   "id": "df168a21-9132-460d-85e9-42e2ab0ea1b8",
   "metadata": {},
   "source": [
    "##### No mixed data type columns found."
   ]
  },
  {
   "cell_type": "code",
   "execution_count": 98,
   "id": "ac85fcab-d04f-4902-a472-d27eb7ee8c71",
   "metadata": {},
   "outputs": [
    {
     "data": {
      "text/plain": [
       "Price                           0\n",
       "Boat Type                       0\n",
       "Manufacturer                    0\n",
       "Type                            0\n",
       "Year Built                      0\n",
       "Length                          9\n",
       "Width                          56\n",
       "Material                        0\n",
       "Location                        0\n",
       "Number of views last 7 days     0\n",
       "dtype: int64"
      ]
     },
     "execution_count": 98,
     "metadata": {},
     "output_type": "execute_result"
    }
   ],
   "source": [
    "# Checking for missing values\n",
    "\n",
    "boats.isnull().sum()"
   ]
  },
  {
   "cell_type": "markdown",
   "id": "59a7eff5-9ac9-426c-a8c2-d695413a2431",
   "metadata": {},
   "source": [
    "##### Can see that the missing values ​​analysis showed that there are missing values ​​in the columns 'Length' and 'Width'\n",
    "##### These missing values ​​will be replaced by medians.."
   ]
  },
  {
   "cell_type": "code",
   "execution_count": 100,
   "id": "43c79aaa-ff60-4bf1-80d0-10d13ea6b08b",
   "metadata": {},
   "outputs": [
    {
     "data": {
      "text/plain": [
       "10.28"
      ]
     },
     "execution_count": 100,
     "metadata": {},
     "output_type": "execute_result"
    }
   ],
   "source": [
    "# Calculating the medians of the data set.\n",
    "\n",
    "boats['Length'].median()"
   ]
  },
  {
   "cell_type": "code",
   "execution_count": 101,
   "id": "58b0aa9e-c068-4827-9567-1365d4e2c332",
   "metadata": {},
   "outputs": [
    {
     "data": {
      "text/plain": [
       "3.33"
      ]
     },
     "execution_count": 101,
     "metadata": {},
     "output_type": "execute_result"
    }
   ],
   "source": [
    "boats['Width'].median()"
   ]
  },
  {
   "cell_type": "code",
   "execution_count": 102,
   "id": "b26c728d-fdda-4df1-8ae8-3df5cecae637",
   "metadata": {},
   "outputs": [
    {
     "data": {
      "text/plain": [
       "0       1.90\n",
       "1       1.50\n",
       "2       1.42\n",
       "3       1.00\n",
       "4       1.46\n",
       "        ... \n",
       "9883    2.44\n",
       "9884    1.68\n",
       "9885    1.80\n",
       "9886    1.89\n",
       "9887    1.60\n",
       "Name: Width, Length: 9888, dtype: float64"
      ]
     },
     "execution_count": 102,
     "metadata": {},
     "output_type": "execute_result"
    }
   ],
   "source": [
    "# Replacing missing values ​​with Medians.\n",
    "\n",
    "boats['Length'].fillna(10.28)\n",
    "boats['Width'].fillna(3.33)"
   ]
  },
  {
   "cell_type": "code",
   "execution_count": 103,
   "id": "bac27cc0-2890-4793-91da-7e2eb356a220",
   "metadata": {},
   "outputs": [
    {
     "data": {
      "text/plain": [
       "Price                           0\n",
       "Boat Type                       0\n",
       "Manufacturer                    0\n",
       "Type                            0\n",
       "Year Built                      0\n",
       "Length                          9\n",
       "Width                          56\n",
       "Material                        0\n",
       "Location                        0\n",
       "Number of views last 7 days     0\n",
       "dtype: int64"
      ]
     },
     "execution_count": 103,
     "metadata": {},
     "output_type": "execute_result"
    }
   ],
   "source": [
    "# Checking for missing values after replacing\n",
    "\n",
    "boats.isnull().sum()"
   ]
  },
  {
   "cell_type": "code",
   "execution_count": 104,
   "id": "f6057aa3-4097-4347-a7f2-c8e8ce6dccf6",
   "metadata": {},
   "outputs": [],
   "source": [
    "# Checking for duplicates.\n",
    "\n",
    "boats_dups = boats[boats.duplicated()]"
   ]
  },
  {
   "cell_type": "code",
   "execution_count": 105,
   "id": "d739677c-8120-4df9-a15c-2d1b58213ab0",
   "metadata": {},
   "outputs": [
    {
     "data": {
      "text/html": [
       "<div>\n",
       "<style scoped>\n",
       "    .dataframe tbody tr th:only-of-type {\n",
       "        vertical-align: middle;\n",
       "    }\n",
       "\n",
       "    .dataframe tbody tr th {\n",
       "        vertical-align: top;\n",
       "    }\n",
       "\n",
       "    .dataframe thead th {\n",
       "        text-align: right;\n",
       "    }\n",
       "</style>\n",
       "<table border=\"1\" class=\"dataframe\">\n",
       "  <thead>\n",
       "    <tr style=\"text-align: right;\">\n",
       "      <th></th>\n",
       "      <th>Price</th>\n",
       "      <th>Boat Type</th>\n",
       "      <th>Manufacturer</th>\n",
       "      <th>Type</th>\n",
       "      <th>Year Built</th>\n",
       "      <th>Length</th>\n",
       "      <th>Width</th>\n",
       "      <th>Material</th>\n",
       "      <th>Location</th>\n",
       "      <th>Number of views last 7 days</th>\n",
       "    </tr>\n",
       "  </thead>\n",
       "  <tbody>\n",
       "  </tbody>\n",
       "</table>\n",
       "</div>"
      ],
      "text/plain": [
       "Empty DataFrame\n",
       "Columns: [Price, Boat Type, Manufacturer, Type, Year Built, Length, Width, Material, Location, Number of views last 7 days]\n",
       "Index: []"
      ]
     },
     "execution_count": 105,
     "metadata": {},
     "output_type": "execute_result"
    }
   ],
   "source": [
    "boats_dups"
   ]
  },
  {
   "cell_type": "markdown",
   "id": "c2155d65-436e-4e8a-9c6c-9da1a5f75d12",
   "metadata": {},
   "source": [
    "##### No duplicates found."
   ]
  },
  {
   "cell_type": "code",
   "execution_count": 107,
   "id": "aaf346de-8a94-4fd3-b5e8-703ea8182b58",
   "metadata": {},
   "outputs": [],
   "source": [
    "# Renaming column 'Type'\n",
    "\n",
    "boats.rename(columns = {'Type':'Condition, engine type'}, inplace = True)"
   ]
  },
  {
   "cell_type": "code",
   "execution_count": 108,
   "id": "8b0f2769-cdf4-4e13-9203-84d32ee4338a",
   "metadata": {},
   "outputs": [
    {
     "data": {
      "text/plain": [
       "Index(['Price', 'Boat Type', 'Manufacturer', 'Condition, engine type',\n",
       "       'Year Built', 'Length', 'Width', 'Material', 'Location',\n",
       "       'Number of views last 7 days'],\n",
       "      dtype='object')"
      ]
     },
     "execution_count": 108,
     "metadata": {},
     "output_type": "execute_result"
    }
   ],
   "source": [
    "# Checking column names after renaming\n",
    "\n",
    "boats.columns"
   ]
  },
  {
   "cell_type": "markdown",
   "id": "9c0614e3-bb9b-4aff-b203-25ef8d31844d",
   "metadata": {},
   "source": [
    "### Checking the frequency of values. "
   ]
  },
  {
   "cell_type": "code",
   "execution_count": 110,
   "id": "0c8aec9f-5656-4b29-89ae-8970b0c8cf9b",
   "metadata": {},
   "outputs": [
    {
     "data": {
      "text/plain": [
       "Price\n",
       "EUR 65000      77\n",
       "EUR 45000      67\n",
       "EUR 75000      64\n",
       "EUR 89000      64\n",
       "EUR 55000      61\n",
       "               ..\n",
       "EUR 1199000     1\n",
       "EUR 1197600     1\n",
       "EUR 1184590     1\n",
       "EUR 1163760     1\n",
       "CHF 3780        1\n",
       "Name: count, Length: 3182, dtype: int64"
      ]
     },
     "execution_count": 110,
     "metadata": {},
     "output_type": "execute_result"
    }
   ],
   "source": [
    "boats['Price'].value_counts(dropna = False)"
   ]
  },
  {
   "cell_type": "code",
   "execution_count": 111,
   "id": "2a954e26-4dbf-450e-861d-961f5b17e266",
   "metadata": {},
   "outputs": [
    {
     "data": {
      "text/plain": [
       "Boat Type\n",
       "Motor Yacht                        2720\n",
       "Sport Boat                         1407\n",
       "Flybridge                          1194\n",
       "Trawler                             679\n",
       "Pilothouse                          613\n",
       "                                   ... \n",
       "Bowrider,Motor Yacht,Sport Boat       1\n",
       "Sport Boat,Working Boat               1\n",
       "Classic,Motor Yacht,Sport Boat        1\n",
       "Motor Yacht,Wakeboard/Wakesurf        1\n",
       "Classic,Runabout,Trawler              1\n",
       "Name: count, Length: 126, dtype: int64"
      ]
     },
     "execution_count": 111,
     "metadata": {},
     "output_type": "execute_result"
    }
   ],
   "source": [
    "boats['Boat Type'].value_counts(dropna = False)"
   ]
  },
  {
   "cell_type": "code",
   "execution_count": 112,
   "id": "27a074b7-b5cc-45ad-b168-fe30846a935d",
   "metadata": {},
   "outputs": [
    {
     "data": {
      "text/plain": [
       "Manufacturer\n",
       "nan                            1338\n",
       "BÃ©nÃ©teau power boats          631\n",
       "Jeanneau power boats            537\n",
       "Sunseeker power boats           383\n",
       "Princess power boats            241\n",
       "                               ... \n",
       "ISA Yachts power boats            1\n",
       "Couach power boats                1\n",
       "Perini Navi Spa power boats       1\n",
       "Palmer Johnson power boats        1\n",
       "Hunter power boats                1\n",
       "Name: count, Length: 911, dtype: int64"
      ]
     },
     "execution_count": 112,
     "metadata": {},
     "output_type": "execute_result"
    }
   ],
   "source": [
    "boats['Manufacturer'].value_counts(dropna = False)"
   ]
  },
  {
   "cell_type": "code",
   "execution_count": 113,
   "id": "b10cbf02-1762-4011-bdba-ba6b88136af1",
   "metadata": {},
   "outputs": [],
   "source": [
    "# In the 'manufacturer' column - the values of nan​​ were found. \n",
    "# Leaving it unchanged as it takes up more than 5% of the data and it is impossible to delete it, as well as make a replacement, since the manufacturer is unknown."
   ]
  },
  {
   "cell_type": "code",
   "execution_count": 114,
   "id": "0421215d-c563-45d9-a355-370fdd98191d",
   "metadata": {},
   "outputs": [
    {
     "data": {
      "text/plain": [
       "Condition, engine type\n",
       "Used boat,Diesel                4140\n",
       "Used boat,Unleaded              1686\n",
       "Used boat                       1462\n",
       "new boat from stock,Unleaded    1107\n",
       "new boat from stock              665\n",
       "new boat from stock,Diesel       291\n",
       "new boat on order,Unleaded       150\n",
       "Display Model,Unleaded            75\n",
       "new boat on order                 61\n",
       "new boat on order,Diesel          61\n",
       "Diesel                            57\n",
       "Used boat,Electric                27\n",
       "Unleaded                          22\n",
       "Display Model,Diesel              19\n",
       "new boat from stock,Electric      18\n",
       "Display Model                     18\n",
       "Used boat,Gas                     10\n",
       "nan                                6\n",
       "Display Model,Electric             6\n",
       "new boat from stock,Gas            2\n",
       "new boat from stock,Hybrid         1\n",
       "Used boat,Hybrid                   1\n",
       "Display Model,Gas                  1\n",
       "Electric                           1\n",
       "Used boat,Propane                  1\n",
       "Name: count, dtype: int64"
      ]
     },
     "execution_count": 114,
     "metadata": {},
     "output_type": "execute_result"
    }
   ],
   "source": [
    "boats['Condition, engine type'].value_counts(dropna = False)"
   ]
  },
  {
   "cell_type": "code",
   "execution_count": 115,
   "id": "c37fdbcc-7abe-4963-8d30-0f0b12d7d793",
   "metadata": {},
   "outputs": [],
   "source": [
    "# In the 'Condition, engine type' column - the values of nan ​​were found. \n",
    "# Leaving it unchanged as it is impossible to make a replacement, since the value is unknown."
   ]
  },
  {
   "cell_type": "code",
   "execution_count": 116,
   "id": "31a72744-9c99-49a2-9d6d-ca4073fab199",
   "metadata": {},
   "outputs": [
    {
     "data": {
      "text/plain": [
       "Year Built\n",
       "2020    1279\n",
       "2019     663\n",
       "0        551\n",
       "2008     457\n",
       "2007     393\n",
       "        ... \n",
       "1914       1\n",
       "1895       1\n",
       "1885       1\n",
       "1931       1\n",
       "1900       1\n",
       "Name: count, Length: 122, dtype: int64"
      ]
     },
     "execution_count": 116,
     "metadata": {},
     "output_type": "execute_result"
    }
   ],
   "source": [
    "boats['Year Built'].value_counts(dropna = False)"
   ]
  },
  {
   "cell_type": "code",
   "execution_count": 117,
   "id": "52f03d11-8813-403e-be08-a2ae0f4e7814",
   "metadata": {},
   "outputs": [],
   "source": [
    "# The year designation 0 was detected. That is, the year is unknown.Leaving it unchanged"
   ]
  },
  {
   "cell_type": "code",
   "execution_count": 118,
   "id": "ecedcca6-2a8b-485a-9f99-d3db91ea1964",
   "metadata": {},
   "outputs": [
    {
     "data": {
      "text/plain": [
       "Length\n",
       "12.00    109\n",
       "9.00     107\n",
       "11.00     96\n",
       "10.00     96\n",
       "6.50      82\n",
       "        ... \n",
       "42.58      1\n",
       "23.30      1\n",
       "13.07      1\n",
       "26.63      1\n",
       "3.60       1\n",
       "Name: count, Length: 1613, dtype: int64"
      ]
     },
     "execution_count": 118,
     "metadata": {},
     "output_type": "execute_result"
    }
   ],
   "source": [
    "boats['Length'].value_counts(dropna = False)"
   ]
  },
  {
   "cell_type": "code",
   "execution_count": 119,
   "id": "286592e5-25f2-4a54-a177-421d643c9eca",
   "metadata": {},
   "outputs": [
    {
     "data": {
      "text/plain": [
       "Width\n",
       "2.50    346\n",
       "3.00    251\n",
       "2.59    204\n",
       "2.55    195\n",
       "2.54    170\n",
       "       ... \n",
       "7.44      1\n",
       "6.92      1\n",
       "6.95      1\n",
       "7.47      1\n",
       "1.89      1\n",
       "Name: count, Length: 576, dtype: int64"
      ]
     },
     "execution_count": 119,
     "metadata": {},
     "output_type": "execute_result"
    }
   ],
   "source": [
    "boats['Width'].value_counts(dropna = False)"
   ]
  },
  {
   "cell_type": "code",
   "execution_count": 120,
   "id": "db6473b0-bbc9-49e5-bd00-2ecb88f41592",
   "metadata": {},
   "outputs": [
    {
     "data": {
      "text/plain": [
       "Material\n",
       "GRP                    5484\n",
       "nan                    1749\n",
       "PVC                    1123\n",
       "Steel                   939\n",
       "Wood                    235\n",
       "Aluminium               229\n",
       "Plastic                  77\n",
       "Carbon Fiber             30\n",
       "Thermoplastic            15\n",
       "Hypalon                   5\n",
       "Reinforced concrete       1\n",
       "Rubber                    1\n",
       "Name: count, dtype: int64"
      ]
     },
     "execution_count": 120,
     "metadata": {},
     "output_type": "execute_result"
    }
   ],
   "source": [
    "boats['Material'].value_counts(dropna = False)"
   ]
  },
  {
   "cell_type": "code",
   "execution_count": 121,
   "id": "617ad36b-d594-4a45-977f-340b53a8de94",
   "metadata": {},
   "outputs": [],
   "source": [
    "# In the 'Material' column - the values of nan ​​were found. \n",
    "# Leaving it unchanged since the Material is unknown."
   ]
  },
  {
   "cell_type": "code",
   "execution_count": 122,
   "id": "a11c11f0-27b2-4248-8f7a-c79c1d371ee5",
   "metadata": {},
   "outputs": [
    {
     "data": {
      "text/plain": [
       "Location\n",
       "Netherlands Â» In verkoophaven                      309\n",
       "Croatia (Hrvatska)                                  244\n",
       "Italy Â» Toscana Â» Toscana                         173\n",
       "Italy                                               155\n",
       "France                                              152\n",
       "                                                   ... \n",
       "Italy Â» La Spezia, Italie                            1\n",
       "France Â» Bretagne Â» Bretagne                        1\n",
       "Italy Â» Linz Marine Test Centre \"Italo Monzino\"      1\n",
       "Italy Â» Adriatic Sea (Fano)                          1\n",
       "Switzerland Â» Bielersee Â» Gerolfingen               1\n",
       "Name: count, Length: 2996, dtype: int64"
      ]
     },
     "execution_count": 122,
     "metadata": {},
     "output_type": "execute_result"
    }
   ],
   "source": [
    "boats['Location'].value_counts(dropna = False)"
   ]
  },
  {
   "cell_type": "code",
   "execution_count": 123,
   "id": "716930dc-bba8-427c-83e8-81d56d4a0e17",
   "metadata": {},
   "outputs": [
    {
     "data": {
      "text/plain": [
       "Number of views last 7 days\n",
       "68      91\n",
       "74      87\n",
       "62      84\n",
       "67      84\n",
       "81      84\n",
       "        ..\n",
       "582      1\n",
       "332      1\n",
       "868      1\n",
       "435      1\n",
       "1116     1\n",
       "Name: count, Length: 674, dtype: int64"
      ]
     },
     "execution_count": 123,
     "metadata": {},
     "output_type": "execute_result"
    }
   ],
   "source": [
    "boats['Number of views last 7 days'].value_counts(dropna = False)"
   ]
  },
  {
   "cell_type": "markdown",
   "id": "42e09c4e-e429-4d86-80dc-8959fbfe8cb1",
   "metadata": {},
   "source": [
    "### Performing basic descriptive statistical analysis"
   ]
  },
  {
   "cell_type": "code",
   "execution_count": 125,
   "id": "cd0aa303-da3d-42b8-aef4-fe571356bba6",
   "metadata": {},
   "outputs": [
    {
     "data": {
      "text/html": [
       "<div>\n",
       "<style scoped>\n",
       "    .dataframe tbody tr th:only-of-type {\n",
       "        vertical-align: middle;\n",
       "    }\n",
       "\n",
       "    .dataframe tbody tr th {\n",
       "        vertical-align: top;\n",
       "    }\n",
       "\n",
       "    .dataframe thead th {\n",
       "        text-align: right;\n",
       "    }\n",
       "</style>\n",
       "<table border=\"1\" class=\"dataframe\">\n",
       "  <thead>\n",
       "    <tr style=\"text-align: right;\">\n",
       "      <th></th>\n",
       "      <th>Year Built</th>\n",
       "      <th>Length</th>\n",
       "      <th>Width</th>\n",
       "      <th>Number of views last 7 days</th>\n",
       "    </tr>\n",
       "  </thead>\n",
       "  <tbody>\n",
       "    <tr>\n",
       "      <th>count</th>\n",
       "      <td>9888.000000</td>\n",
       "      <td>9879.000000</td>\n",
       "      <td>9832.000000</td>\n",
       "      <td>9888.000000</td>\n",
       "    </tr>\n",
       "    <tr>\n",
       "      <th>mean</th>\n",
       "      <td>1893.192860</td>\n",
       "      <td>11.570017</td>\n",
       "      <td>3.520124</td>\n",
       "      <td>149.160801</td>\n",
       "    </tr>\n",
       "    <tr>\n",
       "      <th>std</th>\n",
       "      <td>460.201582</td>\n",
       "      <td>6.002820</td>\n",
       "      <td>1.220534</td>\n",
       "      <td>151.819752</td>\n",
       "    </tr>\n",
       "    <tr>\n",
       "      <th>min</th>\n",
       "      <td>0.000000</td>\n",
       "      <td>1.040000</td>\n",
       "      <td>0.010000</td>\n",
       "      <td>13.000000</td>\n",
       "    </tr>\n",
       "    <tr>\n",
       "      <th>25%</th>\n",
       "      <td>1996.000000</td>\n",
       "      <td>7.470000</td>\n",
       "      <td>2.540000</td>\n",
       "      <td>70.000000</td>\n",
       "    </tr>\n",
       "    <tr>\n",
       "      <th>50%</th>\n",
       "      <td>2007.000000</td>\n",
       "      <td>10.280000</td>\n",
       "      <td>3.330000</td>\n",
       "      <td>108.000000</td>\n",
       "    </tr>\n",
       "    <tr>\n",
       "      <th>75%</th>\n",
       "      <td>2017.000000</td>\n",
       "      <td>13.930000</td>\n",
       "      <td>4.250000</td>\n",
       "      <td>172.000000</td>\n",
       "    </tr>\n",
       "    <tr>\n",
       "      <th>max</th>\n",
       "      <td>2021.000000</td>\n",
       "      <td>100.000000</td>\n",
       "      <td>25.160000</td>\n",
       "      <td>3263.000000</td>\n",
       "    </tr>\n",
       "  </tbody>\n",
       "</table>\n",
       "</div>"
      ],
      "text/plain": [
       "        Year Built       Length        Width  Number of views last 7 days\n",
       "count  9888.000000  9879.000000  9832.000000                  9888.000000\n",
       "mean   1893.192860    11.570017     3.520124                   149.160801\n",
       "std     460.201582     6.002820     1.220534                   151.819752\n",
       "min       0.000000     1.040000     0.010000                    13.000000\n",
       "25%    1996.000000     7.470000     2.540000                    70.000000\n",
       "50%    2007.000000    10.280000     3.330000                   108.000000\n",
       "75%    2017.000000    13.930000     4.250000                   172.000000\n",
       "max    2021.000000   100.000000    25.160000                  3263.000000"
      ]
     },
     "execution_count": 125,
     "metadata": {},
     "output_type": "execute_result"
    }
   ],
   "source": [
    "boats[['Price', 'Boat Type', 'Manufacturer', 'Condition, engine type',\n",
    "       'Year Built', 'Length', 'Width', 'Material', 'Location',\n",
    "       'Number of views last 7 days']].describe()"
   ]
  },
  {
   "cell_type": "markdown",
   "id": "67ca9897-0064-4071-bb0f-c7ef6528b26d",
   "metadata": {},
   "source": [
    "##### The calculated values ​​look realistic. According to the data set."
   ]
  },
  {
   "cell_type": "code",
   "execution_count": 127,
   "id": "d4a3992d-294f-4114-aa47-9d88e2093da4",
   "metadata": {},
   "outputs": [],
   "source": [
    "# Deviding 'Price' column into 2 new columns"
   ]
  },
  {
   "cell_type": "code",
   "execution_count": 129,
   "id": "9a16e631-c601-4e13-8362-765c33c7d6ad",
   "metadata": {},
   "outputs": [],
   "source": [
    "boats[['currency', 'value']] = boats['Price'].str.split(' ', n=1, expand=True)"
   ]
  },
  {
   "cell_type": "code",
   "execution_count": 131,
   "id": "78073ea0-4379-48d2-9ca1-82fff980f813",
   "metadata": {},
   "outputs": [],
   "source": [
    "boats.drop(labels=['Price'], axis=1, inplace=True)"
   ]
  },
  {
   "cell_type": "code",
   "execution_count": 137,
   "id": "6cdfef3f-44ce-47d6-98da-8318ad81b0ec",
   "metadata": {},
   "outputs": [],
   "source": [
    "boats['value']=boats['value'].astype(np.int64)"
   ]
  },
  {
   "cell_type": "code",
   "execution_count": 139,
   "id": "1a7c9e22-60a3-4cbf-9764-06a9c97096fe",
   "metadata": {},
   "outputs": [
    {
     "data": {
      "text/html": [
       "<div>\n",
       "<style scoped>\n",
       "    .dataframe tbody tr th:only-of-type {\n",
       "        vertical-align: middle;\n",
       "    }\n",
       "\n",
       "    .dataframe tbody tr th {\n",
       "        vertical-align: top;\n",
       "    }\n",
       "\n",
       "    .dataframe thead th {\n",
       "        text-align: right;\n",
       "    }\n",
       "</style>\n",
       "<table border=\"1\" class=\"dataframe\">\n",
       "  <thead>\n",
       "    <tr style=\"text-align: right;\">\n",
       "      <th></th>\n",
       "      <th>Boat Type</th>\n",
       "      <th>Manufacturer</th>\n",
       "      <th>Condition, engine type</th>\n",
       "      <th>Year Built</th>\n",
       "      <th>Length</th>\n",
       "      <th>Width</th>\n",
       "      <th>Material</th>\n",
       "      <th>Location</th>\n",
       "      <th>Number of views last 7 days</th>\n",
       "      <th>currency</th>\n",
       "      <th>value</th>\n",
       "    </tr>\n",
       "  </thead>\n",
       "  <tbody>\n",
       "    <tr>\n",
       "      <th>0</th>\n",
       "      <td>Motor Yacht</td>\n",
       "      <td>Rigiflex power boats</td>\n",
       "      <td>new boat from stock</td>\n",
       "      <td>2017</td>\n",
       "      <td>4.00</td>\n",
       "      <td>1.90</td>\n",
       "      <td>nan</td>\n",
       "      <td>Switzerland Â» Lake Geneva Â» VÃ©senaz</td>\n",
       "      <td>226</td>\n",
       "      <td>CHF</td>\n",
       "      <td>3337</td>\n",
       "    </tr>\n",
       "    <tr>\n",
       "      <th>1</th>\n",
       "      <td>Center console boat</td>\n",
       "      <td>Terhi power boats</td>\n",
       "      <td>new boat from stock</td>\n",
       "      <td>2020</td>\n",
       "      <td>4.00</td>\n",
       "      <td>1.50</td>\n",
       "      <td>Thermoplastic</td>\n",
       "      <td>Germany Â» BÃ¶nningstedt</td>\n",
       "      <td>75</td>\n",
       "      <td>EUR</td>\n",
       "      <td>3490</td>\n",
       "    </tr>\n",
       "    <tr>\n",
       "      <th>2</th>\n",
       "      <td>Sport Boat</td>\n",
       "      <td>Marine power boats</td>\n",
       "      <td>new boat from stock</td>\n",
       "      <td>0</td>\n",
       "      <td>3.69</td>\n",
       "      <td>1.42</td>\n",
       "      <td>Aluminium</td>\n",
       "      <td>Switzerland Â» Lake of Zurich Â» StÃ¤fa ZH</td>\n",
       "      <td>124</td>\n",
       "      <td>CHF</td>\n",
       "      <td>3770</td>\n",
       "    </tr>\n",
       "    <tr>\n",
       "      <th>3</th>\n",
       "      <td>Sport Boat</td>\n",
       "      <td>Pioner power boats</td>\n",
       "      <td>new boat from stock</td>\n",
       "      <td>2020</td>\n",
       "      <td>3.00</td>\n",
       "      <td>1.00</td>\n",
       "      <td>nan</td>\n",
       "      <td>Denmark Â» Svendborg</td>\n",
       "      <td>64</td>\n",
       "      <td>DKK</td>\n",
       "      <td>25900</td>\n",
       "    </tr>\n",
       "    <tr>\n",
       "      <th>4</th>\n",
       "      <td>Fishing Boat</td>\n",
       "      <td>Linder power boats</td>\n",
       "      <td>new boat from stock</td>\n",
       "      <td>2019</td>\n",
       "      <td>3.55</td>\n",
       "      <td>1.46</td>\n",
       "      <td>Aluminium</td>\n",
       "      <td>Germany Â» Bayern Â» MÃ¼nchen</td>\n",
       "      <td>58</td>\n",
       "      <td>EUR</td>\n",
       "      <td>3399</td>\n",
       "    </tr>\n",
       "  </tbody>\n",
       "</table>\n",
       "</div>"
      ],
      "text/plain": [
       "             Boat Type          Manufacturer Condition, engine type  \\\n",
       "0          Motor Yacht  Rigiflex power boats    new boat from stock   \n",
       "1  Center console boat     Terhi power boats    new boat from stock   \n",
       "2           Sport Boat    Marine power boats    new boat from stock   \n",
       "3           Sport Boat    Pioner power boats    new boat from stock   \n",
       "4         Fishing Boat    Linder power boats    new boat from stock   \n",
       "\n",
       "   Year Built  Length  Width       Material  \\\n",
       "0        2017    4.00   1.90            nan   \n",
       "1        2020    4.00   1.50  Thermoplastic   \n",
       "2           0    3.69   1.42      Aluminium   \n",
       "3        2020    3.00   1.00            nan   \n",
       "4        2019    3.55   1.46      Aluminium   \n",
       "\n",
       "                                     Location  Number of views last 7 days  \\\n",
       "0      Switzerland Â» Lake Geneva Â» VÃ©senaz                          226   \n",
       "1                    Germany Â» BÃ¶nningstedt                           75   \n",
       "2  Switzerland Â» Lake of Zurich Â» StÃ¤fa ZH                          124   \n",
       "3                        Denmark Â» Svendborg                           64   \n",
       "4               Germany Â» Bayern Â» MÃ¼nchen                           58   \n",
       "\n",
       "  currency  value  \n",
       "0      CHF   3337  \n",
       "1      EUR   3490  \n",
       "2      CHF   3770  \n",
       "3      DKK  25900  \n",
       "4      EUR   3399  "
      ]
     },
     "execution_count": 139,
     "metadata": {},
     "output_type": "execute_result"
    }
   ],
   "source": [
    "boats.head()"
   ]
  },
  {
   "cell_type": "code",
   "execution_count": 141,
   "id": "a593c839-a1c1-4eb7-b720-ead2e3d96a3f",
   "metadata": {},
   "outputs": [],
   "source": [
    "# Creating another column with converted currency\n",
    "\n",
    "def price_in_eur(currency, value):\n",
    "    if currency in ('EUR', 'CHF', np.nan):\n",
    "        return value\n",
    "    elif currency == 'DKK':\n",
    "        return value * 0.13\n",
    "    elif currency == 'GBP':\n",
    "        return value * 1.14\n",
    "\n",
    "\n",
    "boats['value_in_eur'] = boats.apply(lambda x: price_in_eur(x['currency'], x['value']), axis=1)"
   ]
  },
  {
   "cell_type": "code",
   "execution_count": 143,
   "id": "bd0fdaf0-fc3e-441f-ae9d-796ee380dd5e",
   "metadata": {},
   "outputs": [
    {
     "data": {
      "text/html": [
       "<div>\n",
       "<style scoped>\n",
       "    .dataframe tbody tr th:only-of-type {\n",
       "        vertical-align: middle;\n",
       "    }\n",
       "\n",
       "    .dataframe tbody tr th {\n",
       "        vertical-align: top;\n",
       "    }\n",
       "\n",
       "    .dataframe thead th {\n",
       "        text-align: right;\n",
       "    }\n",
       "</style>\n",
       "<table border=\"1\" class=\"dataframe\">\n",
       "  <thead>\n",
       "    <tr style=\"text-align: right;\">\n",
       "      <th></th>\n",
       "      <th>Boat Type</th>\n",
       "      <th>Manufacturer</th>\n",
       "      <th>Condition, engine type</th>\n",
       "      <th>Year Built</th>\n",
       "      <th>Length</th>\n",
       "      <th>Width</th>\n",
       "      <th>Material</th>\n",
       "      <th>Location</th>\n",
       "      <th>Number of views last 7 days</th>\n",
       "      <th>currency</th>\n",
       "      <th>value</th>\n",
       "      <th>value_in_eur</th>\n",
       "    </tr>\n",
       "  </thead>\n",
       "  <tbody>\n",
       "    <tr>\n",
       "      <th>0</th>\n",
       "      <td>Motor Yacht</td>\n",
       "      <td>Rigiflex power boats</td>\n",
       "      <td>new boat from stock</td>\n",
       "      <td>2017</td>\n",
       "      <td>4.00</td>\n",
       "      <td>1.90</td>\n",
       "      <td>nan</td>\n",
       "      <td>Switzerland Â» Lake Geneva Â» VÃ©senaz</td>\n",
       "      <td>226</td>\n",
       "      <td>CHF</td>\n",
       "      <td>3337</td>\n",
       "      <td>3337.0</td>\n",
       "    </tr>\n",
       "    <tr>\n",
       "      <th>1</th>\n",
       "      <td>Center console boat</td>\n",
       "      <td>Terhi power boats</td>\n",
       "      <td>new boat from stock</td>\n",
       "      <td>2020</td>\n",
       "      <td>4.00</td>\n",
       "      <td>1.50</td>\n",
       "      <td>Thermoplastic</td>\n",
       "      <td>Germany Â» BÃ¶nningstedt</td>\n",
       "      <td>75</td>\n",
       "      <td>EUR</td>\n",
       "      <td>3490</td>\n",
       "      <td>3490.0</td>\n",
       "    </tr>\n",
       "    <tr>\n",
       "      <th>2</th>\n",
       "      <td>Sport Boat</td>\n",
       "      <td>Marine power boats</td>\n",
       "      <td>new boat from stock</td>\n",
       "      <td>0</td>\n",
       "      <td>3.69</td>\n",
       "      <td>1.42</td>\n",
       "      <td>Aluminium</td>\n",
       "      <td>Switzerland Â» Lake of Zurich Â» StÃ¤fa ZH</td>\n",
       "      <td>124</td>\n",
       "      <td>CHF</td>\n",
       "      <td>3770</td>\n",
       "      <td>3770.0</td>\n",
       "    </tr>\n",
       "    <tr>\n",
       "      <th>3</th>\n",
       "      <td>Sport Boat</td>\n",
       "      <td>Pioner power boats</td>\n",
       "      <td>new boat from stock</td>\n",
       "      <td>2020</td>\n",
       "      <td>3.00</td>\n",
       "      <td>1.00</td>\n",
       "      <td>nan</td>\n",
       "      <td>Denmark Â» Svendborg</td>\n",
       "      <td>64</td>\n",
       "      <td>DKK</td>\n",
       "      <td>25900</td>\n",
       "      <td>3367.0</td>\n",
       "    </tr>\n",
       "    <tr>\n",
       "      <th>4</th>\n",
       "      <td>Fishing Boat</td>\n",
       "      <td>Linder power boats</td>\n",
       "      <td>new boat from stock</td>\n",
       "      <td>2019</td>\n",
       "      <td>3.55</td>\n",
       "      <td>1.46</td>\n",
       "      <td>Aluminium</td>\n",
       "      <td>Germany Â» Bayern Â» MÃ¼nchen</td>\n",
       "      <td>58</td>\n",
       "      <td>EUR</td>\n",
       "      <td>3399</td>\n",
       "      <td>3399.0</td>\n",
       "    </tr>\n",
       "  </tbody>\n",
       "</table>\n",
       "</div>"
      ],
      "text/plain": [
       "             Boat Type          Manufacturer Condition, engine type  \\\n",
       "0          Motor Yacht  Rigiflex power boats    new boat from stock   \n",
       "1  Center console boat     Terhi power boats    new boat from stock   \n",
       "2           Sport Boat    Marine power boats    new boat from stock   \n",
       "3           Sport Boat    Pioner power boats    new boat from stock   \n",
       "4         Fishing Boat    Linder power boats    new boat from stock   \n",
       "\n",
       "   Year Built  Length  Width       Material  \\\n",
       "0        2017    4.00   1.90            nan   \n",
       "1        2020    4.00   1.50  Thermoplastic   \n",
       "2           0    3.69   1.42      Aluminium   \n",
       "3        2020    3.00   1.00            nan   \n",
       "4        2019    3.55   1.46      Aluminium   \n",
       "\n",
       "                                     Location  Number of views last 7 days  \\\n",
       "0      Switzerland Â» Lake Geneva Â» VÃ©senaz                          226   \n",
       "1                    Germany Â» BÃ¶nningstedt                           75   \n",
       "2  Switzerland Â» Lake of Zurich Â» StÃ¤fa ZH                          124   \n",
       "3                        Denmark Â» Svendborg                           64   \n",
       "4               Germany Â» Bayern Â» MÃ¼nchen                           58   \n",
       "\n",
       "  currency  value  value_in_eur  \n",
       "0      CHF   3337        3337.0  \n",
       "1      EUR   3490        3490.0  \n",
       "2      CHF   3770        3770.0  \n",
       "3      DKK  25900        3367.0  \n",
       "4      EUR   3399        3399.0  "
      ]
     },
     "execution_count": 143,
     "metadata": {},
     "output_type": "execute_result"
    }
   ],
   "source": [
    "boats.head()"
   ]
  },
  {
   "cell_type": "code",
   "execution_count": 151,
   "id": "02520f63-d627-4668-9345-7b112fc84f2d",
   "metadata": {},
   "outputs": [],
   "source": [
    "# Deviding 'Location' column into 2 new columns\n",
    "\n",
    "boats[['Country', 'City']] = boats['Location'].str.split(' Â',n=1, expand=True)"
   ]
  },
  {
   "cell_type": "code",
   "execution_count": 157,
   "id": "620fd4fa-ce9e-4855-a51b-a1747426f14b",
   "metadata": {},
   "outputs": [
    {
     "data": {
      "text/plain": [
       "Country\n",
       "Germany                          1914\n",
       "Italy                            1793\n",
       "France                           1229\n",
       "Switzerland                      1112\n",
       "Netherlands                      1056\n",
       "                                 ... \n",
       "Neustadt in Holstein (Ostsee)       1\n",
       "Venezuela                           1\n",
       "Luxembourg                          1\n",
       "Rolle                               1\n",
       "Thun                                1\n",
       "Name: count, Length: 123, dtype: int64"
      ]
     },
     "execution_count": 157,
     "metadata": {},
     "output_type": "execute_result"
    }
   ],
   "source": [
    "boats['Country'].value_counts()"
   ]
  },
  {
   "cell_type": "code",
   "execution_count": 159,
   "id": "afed7c1a-77a4-4e82-b686-be40de6c1405",
   "metadata": {},
   "outputs": [],
   "source": [
    "boats = boats.drop(columns=['City', 'Location'])"
   ]
  },
  {
   "cell_type": "code",
   "execution_count": 163,
   "id": "4f14d0f9-6337-4500-9321-97bc6be9e2d0",
   "metadata": {},
   "outputs": [
    {
     "data": {
      "text/html": [
       "<div>\n",
       "<style scoped>\n",
       "    .dataframe tbody tr th:only-of-type {\n",
       "        vertical-align: middle;\n",
       "    }\n",
       "\n",
       "    .dataframe tbody tr th {\n",
       "        vertical-align: top;\n",
       "    }\n",
       "\n",
       "    .dataframe thead th {\n",
       "        text-align: right;\n",
       "    }\n",
       "</style>\n",
       "<table border=\"1\" class=\"dataframe\">\n",
       "  <thead>\n",
       "    <tr style=\"text-align: right;\">\n",
       "      <th></th>\n",
       "      <th>Boat Type</th>\n",
       "      <th>Manufacturer</th>\n",
       "      <th>Condition, engine type</th>\n",
       "      <th>Year Built</th>\n",
       "      <th>Length</th>\n",
       "      <th>Width</th>\n",
       "      <th>Material</th>\n",
       "      <th>Number of views last 7 days</th>\n",
       "      <th>currency</th>\n",
       "      <th>value</th>\n",
       "      <th>value_in_eur</th>\n",
       "      <th>Country</th>\n",
       "    </tr>\n",
       "  </thead>\n",
       "  <tbody>\n",
       "    <tr>\n",
       "      <th>0</th>\n",
       "      <td>Motor Yacht</td>\n",
       "      <td>Rigiflex power boats</td>\n",
       "      <td>new boat from stock</td>\n",
       "      <td>2017</td>\n",
       "      <td>4.00</td>\n",
       "      <td>1.90</td>\n",
       "      <td>nan</td>\n",
       "      <td>226</td>\n",
       "      <td>CHF</td>\n",
       "      <td>3337</td>\n",
       "      <td>3337.0</td>\n",
       "      <td>Switzerland</td>\n",
       "    </tr>\n",
       "    <tr>\n",
       "      <th>1</th>\n",
       "      <td>Center console boat</td>\n",
       "      <td>Terhi power boats</td>\n",
       "      <td>new boat from stock</td>\n",
       "      <td>2020</td>\n",
       "      <td>4.00</td>\n",
       "      <td>1.50</td>\n",
       "      <td>Thermoplastic</td>\n",
       "      <td>75</td>\n",
       "      <td>EUR</td>\n",
       "      <td>3490</td>\n",
       "      <td>3490.0</td>\n",
       "      <td>Germany</td>\n",
       "    </tr>\n",
       "    <tr>\n",
       "      <th>2</th>\n",
       "      <td>Sport Boat</td>\n",
       "      <td>Marine power boats</td>\n",
       "      <td>new boat from stock</td>\n",
       "      <td>0</td>\n",
       "      <td>3.69</td>\n",
       "      <td>1.42</td>\n",
       "      <td>Aluminium</td>\n",
       "      <td>124</td>\n",
       "      <td>CHF</td>\n",
       "      <td>3770</td>\n",
       "      <td>3770.0</td>\n",
       "      <td>Switzerland</td>\n",
       "    </tr>\n",
       "    <tr>\n",
       "      <th>3</th>\n",
       "      <td>Sport Boat</td>\n",
       "      <td>Pioner power boats</td>\n",
       "      <td>new boat from stock</td>\n",
       "      <td>2020</td>\n",
       "      <td>3.00</td>\n",
       "      <td>1.00</td>\n",
       "      <td>nan</td>\n",
       "      <td>64</td>\n",
       "      <td>DKK</td>\n",
       "      <td>25900</td>\n",
       "      <td>3367.0</td>\n",
       "      <td>Denmark</td>\n",
       "    </tr>\n",
       "    <tr>\n",
       "      <th>4</th>\n",
       "      <td>Fishing Boat</td>\n",
       "      <td>Linder power boats</td>\n",
       "      <td>new boat from stock</td>\n",
       "      <td>2019</td>\n",
       "      <td>3.55</td>\n",
       "      <td>1.46</td>\n",
       "      <td>Aluminium</td>\n",
       "      <td>58</td>\n",
       "      <td>EUR</td>\n",
       "      <td>3399</td>\n",
       "      <td>3399.0</td>\n",
       "      <td>Germany</td>\n",
       "    </tr>\n",
       "  </tbody>\n",
       "</table>\n",
       "</div>"
      ],
      "text/plain": [
       "             Boat Type          Manufacturer Condition, engine type  \\\n",
       "0          Motor Yacht  Rigiflex power boats    new boat from stock   \n",
       "1  Center console boat     Terhi power boats    new boat from stock   \n",
       "2           Sport Boat    Marine power boats    new boat from stock   \n",
       "3           Sport Boat    Pioner power boats    new boat from stock   \n",
       "4         Fishing Boat    Linder power boats    new boat from stock   \n",
       "\n",
       "   Year Built  Length  Width       Material  Number of views last 7 days  \\\n",
       "0        2017    4.00   1.90            nan                          226   \n",
       "1        2020    4.00   1.50  Thermoplastic                           75   \n",
       "2           0    3.69   1.42      Aluminium                          124   \n",
       "3        2020    3.00   1.00            nan                           64   \n",
       "4        2019    3.55   1.46      Aluminium                           58   \n",
       "\n",
       "  currency  value  value_in_eur      Country  \n",
       "0      CHF   3337        3337.0  Switzerland  \n",
       "1      EUR   3490        3490.0      Germany  \n",
       "2      CHF   3770        3770.0  Switzerland  \n",
       "3      DKK  25900        3367.0      Denmark  \n",
       "4      EUR   3399        3399.0      Germany  "
      ]
     },
     "execution_count": 163,
     "metadata": {},
     "output_type": "execute_result"
    }
   ],
   "source": [
    "boats.head()"
   ]
  },
  {
   "cell_type": "markdown",
   "id": "470e45c5-b1f0-44f1-b520-82c7023d49d4",
   "metadata": {},
   "source": [
    "##### Variables: \n",
    "##### 'Price' - Character, boat price listed in different currencies (e.g. EUR, Â£, CHF etc.) on the website, \n",
    "##### 'Boat Type' - Character, type of the boat,\n",
    "##### 'Manufacturer' - Character, manufacturer of the boat, \n",
    "##### 'Condition, engine type' - Character, condition of the boat and engine type(e.g. Diesel, Unleaded, etc.), engine type',\n",
    "##### 'Year Built - Numeric, year of the boat built,\n",
    "##### 'Length'- Numeric, length in meter of the boat,\n",
    "##### 'Width' - Numeric, width in meter of the boat,\n",
    "##### 'Material' - Character, material of the boat (e.g. GRP, PVC, etc.),\n",
    "##### 'Location' - Character, location of the boat is listed,\n",
    "##### 'Number of views last 7 days' - Numeric, number of the views of the list last 7 days"
   ]
  },
  {
   "cell_type": "code",
   "execution_count": 167,
   "id": "ebb3b58c-15b5-4213-9be9-49e3b6cbe8f8",
   "metadata": {},
   "outputs": [],
   "source": [
    "# Exporting dataframe\n",
    "\n",
    "boats.to_csv(os.path.join(path, '02 Data','Prepared Data', 'boats.csv'))"
   ]
  }
 ],
 "metadata": {
  "kernelspec": {
   "display_name": "Python 3 (ipykernel)",
   "language": "python",
   "name": "python3"
  },
  "language_info": {
   "codemirror_mode": {
    "name": "ipython",
    "version": 3
   },
   "file_extension": ".py",
   "mimetype": "text/x-python",
   "name": "python",
   "nbconvert_exporter": "python",
   "pygments_lexer": "ipython3",
   "version": "3.12.4"
  }
 },
 "nbformat": 4,
 "nbformat_minor": 5
}
